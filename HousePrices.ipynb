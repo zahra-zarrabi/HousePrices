{
  "nbformat": 4,
  "nbformat_minor": 0,
  "metadata": {
    "colab": {
      "name": "HousePrices.ipynb",
      "provenance": [],
      "collapsed_sections": [],
      "authorship_tag": "ABX9TyNrNpaMigBXqMgU+Ml/N3qG",
      "include_colab_link": true
    },
    "kernelspec": {
      "name": "python3",
      "display_name": "Python 3"
    },
    "language_info": {
      "name": "python"
    }
  },
  "cells": [
    {
      "cell_type": "markdown",
      "metadata": {
        "id": "view-in-github",
        "colab_type": "text"
      },
      "source": [
        "<a href=\"https://colab.research.google.com/github/zahra-zarrabi/HousePrices/blob/master/HousePrices.ipynb\" target=\"_parent\"><img src=\"https://colab.research.google.com/assets/colab-badge.svg\" alt=\"Open In Colab\"/></a>"
      ]
    },
    {
      "cell_type": "code",
      "metadata": {
        "id": "KLMjbdJos7Is",
        "colab": {
          "base_uri": "https://localhost:8080/"
        },
        "outputId": "d0b5cb93-66b5-41ff-b58a-e83928ce16d9"
      },
      "source": [
        "!pip install wandb\n",
        "import wandb\n",
        "from wandb.keras import WandbCallback"
      ],
      "execution_count": 1,
      "outputs": [
        {
          "output_type": "stream",
          "name": "stdout",
          "text": [
            "Collecting wandb\n",
            "  Downloading wandb-0.12.1-py2.py3-none-any.whl (1.7 MB)\n",
            "\u001b[?25l\r\u001b[K     |▏                               | 10 kB 22.6 MB/s eta 0:00:01\r\u001b[K     |▍                               | 20 kB 27.7 MB/s eta 0:00:01\r\u001b[K     |▋                               | 30 kB 30.8 MB/s eta 0:00:01\r\u001b[K     |▉                               | 40 kB 33.9 MB/s eta 0:00:01\r\u001b[K     |█                               | 51 kB 31.4 MB/s eta 0:00:01\r\u001b[K     |█▏                              | 61 kB 33.5 MB/s eta 0:00:01\r\u001b[K     |█▍                              | 71 kB 28.3 MB/s eta 0:00:01\r\u001b[K     |█▋                              | 81 kB 28.7 MB/s eta 0:00:01\r\u001b[K     |█▉                              | 92 kB 29.2 MB/s eta 0:00:01\r\u001b[K     |██                              | 102 kB 30.8 MB/s eta 0:00:01\r\u001b[K     |██▏                             | 112 kB 30.8 MB/s eta 0:00:01\r\u001b[K     |██▍                             | 122 kB 30.8 MB/s eta 0:00:01\r\u001b[K     |██▋                             | 133 kB 30.8 MB/s eta 0:00:01\r\u001b[K     |██▊                             | 143 kB 30.8 MB/s eta 0:00:01\r\u001b[K     |███                             | 153 kB 30.8 MB/s eta 0:00:01\r\u001b[K     |███▏                            | 163 kB 30.8 MB/s eta 0:00:01\r\u001b[K     |███▍                            | 174 kB 30.8 MB/s eta 0:00:01\r\u001b[K     |███▋                            | 184 kB 30.8 MB/s eta 0:00:01\r\u001b[K     |███▊                            | 194 kB 30.8 MB/s eta 0:00:01\r\u001b[K     |████                            | 204 kB 30.8 MB/s eta 0:00:01\r\u001b[K     |████▏                           | 215 kB 30.8 MB/s eta 0:00:01\r\u001b[K     |████▍                           | 225 kB 30.8 MB/s eta 0:00:01\r\u001b[K     |████▌                           | 235 kB 30.8 MB/s eta 0:00:01\r\u001b[K     |████▊                           | 245 kB 30.8 MB/s eta 0:00:01\r\u001b[K     |█████                           | 256 kB 30.8 MB/s eta 0:00:01\r\u001b[K     |█████▏                          | 266 kB 30.8 MB/s eta 0:00:01\r\u001b[K     |█████▍                          | 276 kB 30.8 MB/s eta 0:00:01\r\u001b[K     |█████▌                          | 286 kB 30.8 MB/s eta 0:00:01\r\u001b[K     |█████▊                          | 296 kB 30.8 MB/s eta 0:00:01\r\u001b[K     |██████                          | 307 kB 30.8 MB/s eta 0:00:01\r\u001b[K     |██████▏                         | 317 kB 30.8 MB/s eta 0:00:01\r\u001b[K     |██████▎                         | 327 kB 30.8 MB/s eta 0:00:01\r\u001b[K     |██████▌                         | 337 kB 30.8 MB/s eta 0:00:01\r\u001b[K     |██████▊                         | 348 kB 30.8 MB/s eta 0:00:01\r\u001b[K     |███████                         | 358 kB 30.8 MB/s eta 0:00:01\r\u001b[K     |███████▏                        | 368 kB 30.8 MB/s eta 0:00:01\r\u001b[K     |███████▎                        | 378 kB 30.8 MB/s eta 0:00:01\r\u001b[K     |███████▌                        | 389 kB 30.8 MB/s eta 0:00:01\r\u001b[K     |███████▊                        | 399 kB 30.8 MB/s eta 0:00:01\r\u001b[K     |████████                        | 409 kB 30.8 MB/s eta 0:00:01\r\u001b[K     |████████                        | 419 kB 30.8 MB/s eta 0:00:01\r\u001b[K     |████████▎                       | 430 kB 30.8 MB/s eta 0:00:01\r\u001b[K     |████████▌                       | 440 kB 30.8 MB/s eta 0:00:01\r\u001b[K     |████████▊                       | 450 kB 30.8 MB/s eta 0:00:01\r\u001b[K     |█████████                       | 460 kB 30.8 MB/s eta 0:00:01\r\u001b[K     |█████████                       | 471 kB 30.8 MB/s eta 0:00:01\r\u001b[K     |█████████▎                      | 481 kB 30.8 MB/s eta 0:00:01\r\u001b[K     |█████████▌                      | 491 kB 30.8 MB/s eta 0:00:01\r\u001b[K     |█████████▊                      | 501 kB 30.8 MB/s eta 0:00:01\r\u001b[K     |█████████▉                      | 512 kB 30.8 MB/s eta 0:00:01\r\u001b[K     |██████████                      | 522 kB 30.8 MB/s eta 0:00:01\r\u001b[K     |██████████▎                     | 532 kB 30.8 MB/s eta 0:00:01\r\u001b[K     |██████████▌                     | 542 kB 30.8 MB/s eta 0:00:01\r\u001b[K     |██████████▊                     | 552 kB 30.8 MB/s eta 0:00:01\r\u001b[K     |██████████▉                     | 563 kB 30.8 MB/s eta 0:00:01\r\u001b[K     |███████████                     | 573 kB 30.8 MB/s eta 0:00:01\r\u001b[K     |███████████▎                    | 583 kB 30.8 MB/s eta 0:00:01\r\u001b[K     |███████████▌                    | 593 kB 30.8 MB/s eta 0:00:01\r\u001b[K     |███████████▋                    | 604 kB 30.8 MB/s eta 0:00:01\r\u001b[K     |███████████▉                    | 614 kB 30.8 MB/s eta 0:00:01\r\u001b[K     |████████████                    | 624 kB 30.8 MB/s eta 0:00:01\r\u001b[K     |████████████▎                   | 634 kB 30.8 MB/s eta 0:00:01\r\u001b[K     |████████████▌                   | 645 kB 30.8 MB/s eta 0:00:01\r\u001b[K     |████████████▋                   | 655 kB 30.8 MB/s eta 0:00:01\r\u001b[K     |████████████▉                   | 665 kB 30.8 MB/s eta 0:00:01\r\u001b[K     |█████████████                   | 675 kB 30.8 MB/s eta 0:00:01\r\u001b[K     |█████████████▎                  | 686 kB 30.8 MB/s eta 0:00:01\r\u001b[K     |█████████████▍                  | 696 kB 30.8 MB/s eta 0:00:01\r\u001b[K     |█████████████▋                  | 706 kB 30.8 MB/s eta 0:00:01\r\u001b[K     |█████████████▉                  | 716 kB 30.8 MB/s eta 0:00:01\r\u001b[K     |██████████████                  | 727 kB 30.8 MB/s eta 0:00:01\r\u001b[K     |██████████████▎                 | 737 kB 30.8 MB/s eta 0:00:01\r\u001b[K     |██████████████▍                 | 747 kB 30.8 MB/s eta 0:00:01\r\u001b[K     |██████████████▋                 | 757 kB 30.8 MB/s eta 0:00:01\r\u001b[K     |██████████████▉                 | 768 kB 30.8 MB/s eta 0:00:01\r\u001b[K     |███████████████                 | 778 kB 30.8 MB/s eta 0:00:01\r\u001b[K     |███████████████▎                | 788 kB 30.8 MB/s eta 0:00:01\r\u001b[K     |███████████████▍                | 798 kB 30.8 MB/s eta 0:00:01\r\u001b[K     |███████████████▋                | 808 kB 30.8 MB/s eta 0:00:01\r\u001b[K     |███████████████▉                | 819 kB 30.8 MB/s eta 0:00:01\r\u001b[K     |████████████████                | 829 kB 30.8 MB/s eta 0:00:01\r\u001b[K     |████████████████▏               | 839 kB 30.8 MB/s eta 0:00:01\r\u001b[K     |████████████████▍               | 849 kB 30.8 MB/s eta 0:00:01\r\u001b[K     |████████████████▋               | 860 kB 30.8 MB/s eta 0:00:01\r\u001b[K     |████████████████▉               | 870 kB 30.8 MB/s eta 0:00:01\r\u001b[K     |█████████████████               | 880 kB 30.8 MB/s eta 0:00:01\r\u001b[K     |█████████████████▏              | 890 kB 30.8 MB/s eta 0:00:01\r\u001b[K     |█████████████████▍              | 901 kB 30.8 MB/s eta 0:00:01\r\u001b[K     |█████████████████▋              | 911 kB 30.8 MB/s eta 0:00:01\r\u001b[K     |█████████████████▉              | 921 kB 30.8 MB/s eta 0:00:01\r\u001b[K     |██████████████████              | 931 kB 30.8 MB/s eta 0:00:01\r\u001b[K     |██████████████████▏             | 942 kB 30.8 MB/s eta 0:00:01\r\u001b[K     |██████████████████▍             | 952 kB 30.8 MB/s eta 0:00:01\r\u001b[K     |██████████████████▋             | 962 kB 30.8 MB/s eta 0:00:01\r\u001b[K     |██████████████████▉             | 972 kB 30.8 MB/s eta 0:00:01\r\u001b[K     |███████████████████             | 983 kB 30.8 MB/s eta 0:00:01\r\u001b[K     |███████████████████▏            | 993 kB 30.8 MB/s eta 0:00:01\r\u001b[K     |███████████████████▍            | 1.0 MB 30.8 MB/s eta 0:00:01\r\u001b[K     |███████████████████▋            | 1.0 MB 30.8 MB/s eta 0:00:01\r\u001b[K     |███████████████████▊            | 1.0 MB 30.8 MB/s eta 0:00:01\r\u001b[K     |████████████████████            | 1.0 MB 30.8 MB/s eta 0:00:01\r\u001b[K     |████████████████████▏           | 1.0 MB 30.8 MB/s eta 0:00:01\r\u001b[K     |████████████████████▍           | 1.1 MB 30.8 MB/s eta 0:00:01\r\u001b[K     |████████████████████▋           | 1.1 MB 30.8 MB/s eta 0:00:01\r\u001b[K     |████████████████████▊           | 1.1 MB 30.8 MB/s eta 0:00:01\r\u001b[K     |█████████████████████           | 1.1 MB 30.8 MB/s eta 0:00:01\r\u001b[K     |█████████████████████▏          | 1.1 MB 30.8 MB/s eta 0:00:01\r\u001b[K     |█████████████████████▍          | 1.1 MB 30.8 MB/s eta 0:00:01\r\u001b[K     |█████████████████████▌          | 1.1 MB 30.8 MB/s eta 0:00:01\r\u001b[K     |█████████████████████▊          | 1.1 MB 30.8 MB/s eta 0:00:01\r\u001b[K     |██████████████████████          | 1.1 MB 30.8 MB/s eta 0:00:01\r\u001b[K     |██████████████████████▏         | 1.1 MB 30.8 MB/s eta 0:00:01\r\u001b[K     |██████████████████████▍         | 1.2 MB 30.8 MB/s eta 0:00:01\r\u001b[K     |██████████████████████▌         | 1.2 MB 30.8 MB/s eta 0:00:01\r\u001b[K     |██████████████████████▊         | 1.2 MB 30.8 MB/s eta 0:00:01\r\u001b[K     |███████████████████████         | 1.2 MB 30.8 MB/s eta 0:00:01\r\u001b[K     |███████████████████████▏        | 1.2 MB 30.8 MB/s eta 0:00:01\r\u001b[K     |███████████████████████▎        | 1.2 MB 30.8 MB/s eta 0:00:01\r\u001b[K     |███████████████████████▌        | 1.2 MB 30.8 MB/s eta 0:00:01\r\u001b[K     |███████████████████████▊        | 1.2 MB 30.8 MB/s eta 0:00:01\r\u001b[K     |████████████████████████        | 1.2 MB 30.8 MB/s eta 0:00:01\r\u001b[K     |████████████████████████▏       | 1.2 MB 30.8 MB/s eta 0:00:01\r\u001b[K     |████████████████████████▎       | 1.3 MB 30.8 MB/s eta 0:00:01\r\u001b[K     |████████████████████████▌       | 1.3 MB 30.8 MB/s eta 0:00:01\r\u001b[K     |████████████████████████▊       | 1.3 MB 30.8 MB/s eta 0:00:01\r\u001b[K     |█████████████████████████       | 1.3 MB 30.8 MB/s eta 0:00:01\r\u001b[K     |█████████████████████████       | 1.3 MB 30.8 MB/s eta 0:00:01\r\u001b[K     |█████████████████████████▎      | 1.3 MB 30.8 MB/s eta 0:00:01\r\u001b[K     |█████████████████████████▌      | 1.3 MB 30.8 MB/s eta 0:00:01\r\u001b[K     |█████████████████████████▊      | 1.3 MB 30.8 MB/s eta 0:00:01\r\u001b[K     |██████████████████████████      | 1.3 MB 30.8 MB/s eta 0:00:01\r\u001b[K     |██████████████████████████      | 1.4 MB 30.8 MB/s eta 0:00:01\r\u001b[K     |██████████████████████████▎     | 1.4 MB 30.8 MB/s eta 0:00:01\r\u001b[K     |██████████████████████████▌     | 1.4 MB 30.8 MB/s eta 0:00:01\r\u001b[K     |██████████████████████████▊     | 1.4 MB 30.8 MB/s eta 0:00:01\r\u001b[K     |██████████████████████████▉     | 1.4 MB 30.8 MB/s eta 0:00:01\r\u001b[K     |███████████████████████████     | 1.4 MB 30.8 MB/s eta 0:00:01\r\u001b[K     |███████████████████████████▎    | 1.4 MB 30.8 MB/s eta 0:00:01\r\u001b[K     |███████████████████████████▌    | 1.4 MB 30.8 MB/s eta 0:00:01\r\u001b[K     |███████████████████████████▊    | 1.4 MB 30.8 MB/s eta 0:00:01\r\u001b[K     |███████████████████████████▉    | 1.4 MB 30.8 MB/s eta 0:00:01\r\u001b[K     |████████████████████████████    | 1.5 MB 30.8 MB/s eta 0:00:01\r\u001b[K     |████████████████████████████▎   | 1.5 MB 30.8 MB/s eta 0:00:01\r\u001b[K     |████████████████████████████▌   | 1.5 MB 30.8 MB/s eta 0:00:01\r\u001b[K     |████████████████████████████▊   | 1.5 MB 30.8 MB/s eta 0:00:01\r\u001b[K     |████████████████████████████▉   | 1.5 MB 30.8 MB/s eta 0:00:01\r\u001b[K     |█████████████████████████████   | 1.5 MB 30.8 MB/s eta 0:00:01\r\u001b[K     |█████████████████████████████▎  | 1.5 MB 30.8 MB/s eta 0:00:01\r\u001b[K     |█████████████████████████████▌  | 1.5 MB 30.8 MB/s eta 0:00:01\r\u001b[K     |█████████████████████████████▋  | 1.5 MB 30.8 MB/s eta 0:00:01\r\u001b[K     |█████████████████████████████▉  | 1.5 MB 30.8 MB/s eta 0:00:01\r\u001b[K     |██████████████████████████████  | 1.6 MB 30.8 MB/s eta 0:00:01\r\u001b[K     |██████████████████████████████▎ | 1.6 MB 30.8 MB/s eta 0:00:01\r\u001b[K     |██████████████████████████████▌ | 1.6 MB 30.8 MB/s eta 0:00:01\r\u001b[K     |██████████████████████████████▋ | 1.6 MB 30.8 MB/s eta 0:00:01\r\u001b[K     |██████████████████████████████▉ | 1.6 MB 30.8 MB/s eta 0:00:01\r\u001b[K     |███████████████████████████████ | 1.6 MB 30.8 MB/s eta 0:00:01\r\u001b[K     |███████████████████████████████▎| 1.6 MB 30.8 MB/s eta 0:00:01\r\u001b[K     |███████████████████████████████▍| 1.6 MB 30.8 MB/s eta 0:00:01\r\u001b[K     |███████████████████████████████▋| 1.6 MB 30.8 MB/s eta 0:00:01\r\u001b[K     |███████████████████████████████▉| 1.6 MB 30.8 MB/s eta 0:00:01\r\u001b[K     |████████████████████████████████| 1.7 MB 30.8 MB/s \n",
            "\u001b[?25hRequirement already satisfied: PyYAML in /usr/local/lib/python3.7/dist-packages (from wandb) (3.13)\n",
            "Requirement already satisfied: protobuf>=3.12.0 in /usr/local/lib/python3.7/dist-packages (from wandb) (3.17.3)\n",
            "Requirement already satisfied: requests<3,>=2.0.0 in /usr/local/lib/python3.7/dist-packages (from wandb) (2.23.0)\n",
            "Collecting GitPython>=1.0.0\n",
            "  Downloading GitPython-3.1.18-py3-none-any.whl (170 kB)\n",
            "\u001b[K     |████████████████████████████████| 170 kB 44.3 MB/s \n",
            "\u001b[?25hCollecting pathtools\n",
            "  Downloading pathtools-0.1.2.tar.gz (11 kB)\n",
            "Collecting configparser>=3.8.1\n",
            "  Downloading configparser-5.0.2-py3-none-any.whl (19 kB)\n",
            "Collecting sentry-sdk>=1.0.0\n",
            "  Downloading sentry_sdk-1.3.1-py2.py3-none-any.whl (133 kB)\n",
            "\u001b[K     |████████████████████████████████| 133 kB 54.9 MB/s \n",
            "\u001b[?25hRequirement already satisfied: psutil>=5.0.0 in /usr/local/lib/python3.7/dist-packages (from wandb) (5.4.8)\n",
            "Requirement already satisfied: Click!=8.0.0,>=7.0 in /usr/local/lib/python3.7/dist-packages (from wandb) (7.1.2)\n",
            "Requirement already satisfied: six>=1.13.0 in /usr/local/lib/python3.7/dist-packages (from wandb) (1.15.0)\n",
            "Collecting docker-pycreds>=0.4.0\n",
            "  Downloading docker_pycreds-0.4.0-py2.py3-none-any.whl (9.0 kB)\n",
            "Collecting subprocess32>=3.5.3\n",
            "  Downloading subprocess32-3.5.4.tar.gz (97 kB)\n",
            "\u001b[K     |████████████████████████████████| 97 kB 4.7 MB/s \n",
            "\u001b[?25hRequirement already satisfied: python-dateutil>=2.6.1 in /usr/local/lib/python3.7/dist-packages (from wandb) (2.8.2)\n",
            "Requirement already satisfied: promise<3,>=2.0 in /usr/local/lib/python3.7/dist-packages (from wandb) (2.3)\n",
            "Collecting shortuuid>=0.5.0\n",
            "  Downloading shortuuid-1.0.1-py3-none-any.whl (7.5 kB)\n",
            "Requirement already satisfied: typing-extensions>=3.7.4.0 in /usr/local/lib/python3.7/dist-packages (from GitPython>=1.0.0->wandb) (3.7.4.3)\n",
            "Collecting gitdb<5,>=4.0.1\n",
            "  Downloading gitdb-4.0.7-py3-none-any.whl (63 kB)\n",
            "\u001b[K     |████████████████████████████████| 63 kB 1.6 MB/s \n",
            "\u001b[?25hCollecting smmap<5,>=3.0.1\n",
            "  Downloading smmap-4.0.0-py2.py3-none-any.whl (24 kB)\n",
            "Requirement already satisfied: certifi>=2017.4.17 in /usr/local/lib/python3.7/dist-packages (from requests<3,>=2.0.0->wandb) (2021.5.30)\n",
            "Requirement already satisfied: urllib3!=1.25.0,!=1.25.1,<1.26,>=1.21.1 in /usr/local/lib/python3.7/dist-packages (from requests<3,>=2.0.0->wandb) (1.24.3)\n",
            "Requirement already satisfied: chardet<4,>=3.0.2 in /usr/local/lib/python3.7/dist-packages (from requests<3,>=2.0.0->wandb) (3.0.4)\n",
            "Requirement already satisfied: idna<3,>=2.5 in /usr/local/lib/python3.7/dist-packages (from requests<3,>=2.0.0->wandb) (2.10)\n",
            "Building wheels for collected packages: subprocess32, pathtools\n",
            "  Building wheel for subprocess32 (setup.py) ... \u001b[?25l\u001b[?25hdone\n",
            "  Created wheel for subprocess32: filename=subprocess32-3.5.4-py3-none-any.whl size=6502 sha256=bd81e213fcb02a79925c15710ebacb8e6f67a1ec5e00f4284092b85f0d9c7902\n",
            "  Stored in directory: /root/.cache/pip/wheels/50/ca/fa/8fca8d246e64f19488d07567547ddec8eb084e8c0d7a59226a\n",
            "  Building wheel for pathtools (setup.py) ... \u001b[?25l\u001b[?25hdone\n",
            "  Created wheel for pathtools: filename=pathtools-0.1.2-py3-none-any.whl size=8807 sha256=6b50d4ce9b35995a12e16eb3f9c7ca73f3a1bcffc7e73ed3498abfdc513b3c88\n",
            "  Stored in directory: /root/.cache/pip/wheels/3e/31/09/fa59cef12cdcfecc627b3d24273699f390e71828921b2cbba2\n",
            "Successfully built subprocess32 pathtools\n",
            "Installing collected packages: smmap, gitdb, subprocess32, shortuuid, sentry-sdk, pathtools, GitPython, docker-pycreds, configparser, wandb\n",
            "Successfully installed GitPython-3.1.18 configparser-5.0.2 docker-pycreds-0.4.0 gitdb-4.0.7 pathtools-0.1.2 sentry-sdk-1.3.1 shortuuid-1.0.1 smmap-4.0.0 subprocess32-3.5.4 wandb-0.12.1\n"
          ]
        }
      ]
    },
    {
      "cell_type": "code",
      "metadata": {
        "id": "Ly1OMbKVK59z"
      },
      "source": [
        "import pandas as pd\n",
        "import tensorflow as tf\n",
        "import numpy as np\n"
      ],
      "execution_count": null,
      "outputs": []
    },
    {
      "cell_type": "code",
      "metadata": {
        "id": "46Oa_BPCMYsN"
      },
      "source": [
        "data_house_train = pd.read_csv('/content/train.csv')\n",
        "data_house_train = data_house_train.fillna(0)\n",
        "X_train = data_house_train.iloc[:,1:-1]\n",
        "\n",
        "Y_train=data_house_train['SalePrice']\n"
      ],
      "execution_count": null,
      "outputs": []
    },
    {
      "cell_type": "code",
      "metadata": {
        "id": "FAEiXLXsNb44"
      },
      "source": [
        "data_house_test = pd.read_csv('/content/test.csv')\n",
        "data_house_test = data_house_test.fillna(0)\n",
        "data_price = pd.read_csv('/content/sample_submission.csv')\n",
        "X_test = data_house_test.iloc[:,1:]\n"
      ],
      "execution_count": null,
      "outputs": []
    },
    {
      "cell_type": "code",
      "metadata": {
        "id": "KpH4gBW1OCCw"
      },
      "source": [
        "Data = [X_train,X_test]\n",
        "data_merge = pd.concat(Data,ignore_index=True)\n"
      ],
      "execution_count": null,
      "outputs": []
    },
    {
      "cell_type": "code",
      "metadata": {
        "id": "MJPHh38wY4d3"
      },
      "source": [
        "for col in data_merge.columns:\n",
        "  tmp = [isinstance(x, str) for x in data_merge[col].to_list()]\n",
        "  if any(tmp):\n",
        "    data_list = np.array(data_merge[col].to_list())\n",
        "    data_unique = set(data_list)\n",
        "    cnt = 0\n",
        "    for x in data_unique:\n",
        "      data_list[np.where(data_list == x)] = cnt\n",
        "      cnt += 1\n",
        "    data_merge[col] = data_list.astype('int')\n",
        "\n",
        "X_train = data_merge[:X_train.shape[0]]\n",
        "X_test = data_merge[X_train.shape[0]:]"
      ],
      "execution_count": null,
      "outputs": []
    },
    {
      "cell_type": "code",
      "metadata": {
        "colab": {
          "base_uri": "https://localhost:8080/"
        },
        "id": "HfKu6bS1Da3n",
        "outputId": "375b1b19-e0fc-403a-d1d8-2e549e3b0072"
      },
      "source": [
        "cor_sel=np.full((X_train.shape[1]),False,dtype=bool)\n",
        "X_train\n",
        "for index, c in enumerate(X_train):\n",
        "  temp = X_train[c]\n",
        "  cor = temp.corr(Y_train) \n",
        "  if np.abs(cor) > 0.2:\n",
        "    cor_sel[index]=True\n",
        "print(cor_sel)\n",
        "sel_col = X_train.columns[cor_sel]\n",
        "X_train= X_train[sel_col]\n"
      ],
      "execution_count": null,
      "outputs": [
        {
          "output_type": "stream",
          "name": "stdout",
          "text": [
            "[False False  True  True False False  True False False False False False\n",
            " False False False False  True False  True  True  True False  True  True\n",
            "  True  True  True False False  True False False False  True False False\n",
            "  True  True False  True  True False  True  True False  True  True False\n",
            "  True  True False False  True  True False  True  True  True  True  True\n",
            "  True  True False False  True  True  True False False False False False\n",
            " False False False False False  True  True]\n"
          ]
        }
      ]
    },
    {
      "cell_type": "code",
      "metadata": {
        "id": "suqhJzB4WpAW"
      },
      "source": [
        "# cor = X_train.corr()\n",
        "# # print(type(cor))\n",
        "# cor_sel = np.full((cor.shape[0]),True,dtype=bool)\n",
        "# for i in range(cor.shape[0]):\n",
        "#   for j in range(i+1,cor.shape[0]):\n",
        "#     if cor.iloc[i,j] > 0.7:\n",
        "#       if cor_sel[j] == True:\n",
        "#         cor_sel[j]=False\n",
        "# # print(cor_sel.shape)\n",
        "# sel_col = X_train.columns[cor_sel]\n",
        "# X_train= X_train[sel_col]"
      ],
      "execution_count": null,
      "outputs": []
    },
    {
      "cell_type": "code",
      "metadata": {
        "id": "M0hvZ0iJ79sO"
      },
      "source": [
        "\n",
        "X_train=np.array(X_train)\n",
        "Y_train=np.array(Y_train)\n",
        "\n"
      ],
      "execution_count": null,
      "outputs": []
    },
    {
      "cell_type": "code",
      "metadata": {
        "id": "26UUKdugW55I"
      },
      "source": [
        "# data_house_train['BldgType'].unique()"
      ],
      "execution_count": null,
      "outputs": []
    },
    {
      "cell_type": "code",
      "metadata": {
        "id": "mYCDBYcYIvMo"
      },
      "source": [
        "# x = data_house_train.info()\n"
      ],
      "execution_count": null,
      "outputs": []
    },
    {
      "cell_type": "code",
      "metadata": {
        "id": "lSO6Ei1sb5fJ"
      },
      "source": [
        "X_train_max = np.max(X_train, axis=0)\n",
        "X_train = X_train / X_train_max\n",
        "\n",
        "Y_train_max = np.max(Y_train)\n",
        "Y_train = Y_train / Y_train_max"
      ],
      "execution_count": null,
      "outputs": []
    },
    {
      "cell_type": "code",
      "metadata": {
        "id": "O6OXZe7Smemm"
      },
      "source": [
        "X_test = X_test[sel_col]\n",
        "\n",
        "Y_test=data_price[['SalePrice']]\n",
        "X_test=np.array(X_test)\n",
        "Y_test=np.array(Y_test)\n",
        "\n",
        "\n",
        "X_test_max = np.max(X_test, axis=0)\n",
        "X_test = X_test / X_test_max\n",
        "\n",
        "Y_test_max = np.max(Y_test)\n",
        "Y_test = Y_test / Y_test_max\n"
      ],
      "execution_count": null,
      "outputs": []
    },
    {
      "cell_type": "code",
      "metadata": {
        "id": "-8u-cVGcIO-U",
        "colab": {
          "base_uri": "https://localhost:8080/",
          "height": 1000
        },
        "outputId": "ebac8ff0-261a-4df7-dc75-a3a3bbef348e"
      },
      "source": [
        "model = tf.keras.models.Sequential([\n",
        "                                    tf.keras.layers.Dense(4,input_dim=X_train.shape[1],activation='relu'),\n",
        "                                    # tf.keras.layers.Dense(16,activation='relu'),\n",
        "                                    # tf.keras.layers.Dense(8,activation='relu'),\n",
        "                                    tf.keras.layers.Dense(1,activation='relu')\n",
        "])\n",
        "wandb.init(project=\"HousePrice\")\n",
        "\n",
        "model.compile(optimizer=tf.keras.optimizers.Adam(),loss=tf.keras.losses.mse)\n",
        "model.fit(X_train,Y_train,epochs=50,callbacks=[WandbCallback()],validation_data=(X_test, Y_test))\n",
        "# model.fit(X_train,Y_train,epochs=40)"
      ],
      "execution_count": null,
      "outputs": [
        {
          "output_type": "display_data",
          "data": {
            "application/javascript": [
              "\n",
              "        window._wandbApiKey = new Promise((resolve, reject) => {\n",
              "            function loadScript(url) {\n",
              "            return new Promise(function(resolve, reject) {\n",
              "                let newScript = document.createElement(\"script\");\n",
              "                newScript.onerror = reject;\n",
              "                newScript.onload = resolve;\n",
              "                document.body.appendChild(newScript);\n",
              "                newScript.src = url;\n",
              "            });\n",
              "            }\n",
              "            loadScript(\"https://cdn.jsdelivr.net/npm/postmate/build/postmate.min.js\").then(() => {\n",
              "            const iframe = document.createElement('iframe')\n",
              "            iframe.style.cssText = \"width:0;height:0;border:none\"\n",
              "            document.body.appendChild(iframe)\n",
              "            const handshake = new Postmate({\n",
              "                container: iframe,\n",
              "                url: 'https://wandb.ai/authorize'\n",
              "            });\n",
              "            const timeout = setTimeout(() => reject(\"Couldn't auto authenticate\"), 5000)\n",
              "            handshake.then(function(child) {\n",
              "                child.on('authorize', data => {\n",
              "                    clearTimeout(timeout)\n",
              "                    resolve(data)\n",
              "                });\n",
              "            });\n",
              "            })\n",
              "        });\n",
              "    "
            ],
            "text/plain": [
              "<IPython.core.display.Javascript object>"
            ]
          },
          "metadata": {}
        },
        {
          "output_type": "stream",
          "name": "stderr",
          "text": [
            "\u001b[34m\u001b[1mwandb\u001b[0m: You can find your API key in your browser here: https://wandb.ai/authorize\n"
          ]
        },
        {
          "name": "stdout",
          "output_type": "stream",
          "text": [
            "wandb: Paste an API key from your profile and hit enter: ··········\n"
          ]
        },
        {
          "output_type": "stream",
          "name": "stderr",
          "text": [
            "\u001b[34m\u001b[1mwandb\u001b[0m: Appending key for api.wandb.ai to your netrc file: /root/.netrc\n"
          ]
        },
        {
          "output_type": "display_data",
          "data": {
            "text/html": [
              "\n",
              "                Tracking run with wandb version 0.12.1<br/>\n",
              "                Syncing run <strong style=\"color:#cdcd00\">celestial-paper-8</strong> to <a href=\"https://wandb.ai\" target=\"_blank\">Weights & Biases</a> <a href=\"https://docs.wandb.com/integrations/jupyter.html\" target=\"_blank\">(Documentation)</a>.<br/>\n",
              "                Project page: <a href=\"https://wandb.ai/zahra_zarrabi/HousePrice\" target=\"_blank\">https://wandb.ai/zahra_zarrabi/HousePrice</a><br/>\n",
              "                Run page: <a href=\"https://wandb.ai/zahra_zarrabi/HousePrice/runs/1ugbws8n\" target=\"_blank\">https://wandb.ai/zahra_zarrabi/HousePrice/runs/1ugbws8n</a><br/>\n",
              "                Run data is saved locally in <code>/content/wandb/run-20210903_181427-1ugbws8n</code><br/><br/>\n",
              "            "
            ],
            "text/plain": [
              "<IPython.core.display.HTML object>"
            ]
          },
          "metadata": {}
        },
        {
          "output_type": "stream",
          "name": "stdout",
          "text": [
            "Epoch 1/50\n",
            "46/46 [==============================] - 1s 6ms/step - loss: 0.0611 - val_loss: 0.3613\n",
            "Epoch 2/50\n",
            "46/46 [==============================] - 0s 2ms/step - loss: 0.0458 - val_loss: 0.3169\n",
            "Epoch 3/50\n",
            "46/46 [==============================] - 0s 3ms/step - loss: 0.0363 - val_loss: 0.2927\n",
            "Epoch 4/50\n",
            "46/46 [==============================] - 0s 3ms/step - loss: 0.0274 - val_loss: 0.2960\n",
            "Epoch 5/50\n",
            "46/46 [==============================] - 0s 3ms/step - loss: 0.0229 - val_loss: 0.2650\n",
            "Epoch 6/50\n",
            "46/46 [==============================] - 0s 4ms/step - loss: 0.0197 - val_loss: 0.2736\n",
            "Epoch 7/50\n",
            "46/46 [==============================] - 0s 3ms/step - loss: 0.0173 - val_loss: 0.2674\n",
            "Epoch 8/50\n",
            "46/46 [==============================] - 0s 3ms/step - loss: 0.0154 - val_loss: 0.2546\n",
            "Epoch 9/50\n",
            "46/46 [==============================] - 0s 3ms/step - loss: 0.0136 - val_loss: 0.2532\n",
            "Epoch 10/50\n",
            "46/46 [==============================] - 0s 2ms/step - loss: 0.0122 - val_loss: 0.2402\n",
            "Epoch 11/50\n",
            "46/46 [==============================] - 0s 3ms/step - loss: 0.0109 - val_loss: 0.2544\n",
            "Epoch 12/50\n",
            "46/46 [==============================] - 0s 3ms/step - loss: 0.0099 - val_loss: 0.2282\n",
            "Epoch 13/50\n",
            "46/46 [==============================] - 0s 3ms/step - loss: 0.0090 - val_loss: 0.2422\n",
            "Epoch 14/50\n",
            "46/46 [==============================] - 0s 3ms/step - loss: 0.0083 - val_loss: 0.2286\n",
            "Epoch 15/50\n",
            "46/46 [==============================] - 0s 3ms/step - loss: 0.0076 - val_loss: 0.2346\n",
            "Epoch 16/50\n",
            "46/46 [==============================] - 0s 3ms/step - loss: 0.0070 - val_loss: 0.2284\n",
            "Epoch 17/50\n",
            "46/46 [==============================] - 0s 3ms/step - loss: 0.0065 - val_loss: 0.2179\n",
            "Epoch 18/50\n",
            "46/46 [==============================] - 0s 3ms/step - loss: 0.0061 - val_loss: 0.2215\n",
            "Epoch 19/50\n",
            "46/46 [==============================] - 0s 3ms/step - loss: 0.0057 - val_loss: 0.2163\n",
            "Epoch 20/50\n",
            "46/46 [==============================] - 0s 3ms/step - loss: 0.0054 - val_loss: 0.2238\n",
            "Epoch 21/50\n",
            "46/46 [==============================] - 0s 3ms/step - loss: 0.0051 - val_loss: 0.2251\n",
            "Epoch 22/50\n",
            "46/46 [==============================] - 0s 3ms/step - loss: 0.0048 - val_loss: 0.2012\n",
            "Epoch 23/50\n",
            "46/46 [==============================] - 0s 3ms/step - loss: 0.0046 - val_loss: 0.2151\n",
            "Epoch 24/50\n",
            "46/46 [==============================] - 0s 3ms/step - loss: 0.0044 - val_loss: 0.2093\n",
            "Epoch 25/50\n",
            "46/46 [==============================] - 0s 3ms/step - loss: 0.0042 - val_loss: 0.2079\n",
            "Epoch 26/50\n",
            "46/46 [==============================] - 0s 3ms/step - loss: 0.0040 - val_loss: 0.1978\n",
            "Epoch 27/50\n",
            "46/46 [==============================] - 0s 3ms/step - loss: 0.0038 - val_loss: 0.2028\n",
            "Epoch 28/50\n",
            "46/46 [==============================] - 0s 3ms/step - loss: 0.0037 - val_loss: 0.2020\n",
            "Epoch 29/50\n",
            "46/46 [==============================] - 0s 3ms/step - loss: 0.0036 - val_loss: 0.2022\n",
            "Epoch 30/50\n",
            "46/46 [==============================] - 0s 3ms/step - loss: 0.0035 - val_loss: 0.1956\n",
            "Epoch 31/50\n",
            "46/46 [==============================] - 0s 3ms/step - loss: 0.0034 - val_loss: 0.1905\n",
            "Epoch 32/50\n",
            "46/46 [==============================] - 0s 3ms/step - loss: 0.0033 - val_loss: 0.2058\n",
            "Epoch 33/50\n",
            "46/46 [==============================] - 0s 3ms/step - loss: 0.0032 - val_loss: 0.1972\n",
            "Epoch 34/50\n",
            "46/46 [==============================] - 0s 3ms/step - loss: 0.0031 - val_loss: 0.1976\n",
            "Epoch 35/50\n",
            "46/46 [==============================] - 0s 3ms/step - loss: 0.0030 - val_loss: 0.1979\n",
            "Epoch 36/50\n",
            "46/46 [==============================] - 0s 3ms/step - loss: 0.0030 - val_loss: 0.1954\n",
            "Epoch 37/50\n",
            "46/46 [==============================] - 0s 3ms/step - loss: 0.0029 - val_loss: 0.1895\n",
            "Epoch 38/50\n",
            "46/46 [==============================] - 0s 3ms/step - loss: 0.0029 - val_loss: 0.1900\n",
            "Epoch 39/50\n",
            "46/46 [==============================] - 0s 3ms/step - loss: 0.0028 - val_loss: 0.1898\n",
            "Epoch 40/50\n",
            "46/46 [==============================] - 0s 3ms/step - loss: 0.0028 - val_loss: 0.1969\n",
            "Epoch 41/50\n",
            "46/46 [==============================] - 0s 3ms/step - loss: 0.0028 - val_loss: 0.1894\n",
            "Epoch 42/50\n",
            "46/46 [==============================] - 0s 3ms/step - loss: 0.0027 - val_loss: 0.1860\n",
            "Epoch 43/50\n",
            "46/46 [==============================] - 0s 3ms/step - loss: 0.0027 - val_loss: 0.1871\n",
            "Epoch 44/50\n",
            "46/46 [==============================] - 0s 3ms/step - loss: 0.0026 - val_loss: 0.1887\n",
            "Epoch 45/50\n",
            "46/46 [==============================] - 0s 3ms/step - loss: 0.0026 - val_loss: 0.1921\n",
            "Epoch 46/50\n",
            "46/46 [==============================] - 0s 3ms/step - loss: 0.0026 - val_loss: 0.1810\n",
            "Epoch 47/50\n",
            "46/46 [==============================] - 0s 3ms/step - loss: 0.0025 - val_loss: 0.1868\n",
            "Epoch 48/50\n",
            "46/46 [==============================] - 0s 3ms/step - loss: 0.0025 - val_loss: 0.1783\n",
            "Epoch 49/50\n",
            "46/46 [==============================] - 0s 3ms/step - loss: 0.0025 - val_loss: 0.1895\n",
            "Epoch 50/50\n",
            "46/46 [==============================] - 0s 3ms/step - loss: 0.0025 - val_loss: 0.1849\n"
          ]
        },
        {
          "output_type": "execute_result",
          "data": {
            "text/plain": [
              "<tensorflow.python.keras.callbacks.History at 0x7f26118c88d0>"
            ]
          },
          "metadata": {},
          "execution_count": 14
        }
      ]
    },
    {
      "cell_type": "code",
      "metadata": {
        "id": "9pMpFVR_NgeC"
      },
      "source": [
        ""
      ],
      "execution_count": null,
      "outputs": []
    },
    {
      "cell_type": "code",
      "metadata": {
        "colab": {
          "base_uri": "https://localhost:8080/"
        },
        "id": "2atcjt2rPDpi",
        "outputId": "d2a38578-f10f-46aa-8819-5c7fcf3cd861"
      },
      "source": [
        "model.evaluate(X_test,Y_test)"
      ],
      "execution_count": null,
      "outputs": [
        {
          "output_type": "stream",
          "name": "stdout",
          "text": [
            "46/46 [==============================] - 0s 979us/step - loss: 0.1849\n"
          ]
        },
        {
          "output_type": "execute_result",
          "data": {
            "text/plain": [
              "0.18488900363445282"
            ]
          },
          "metadata": {},
          "execution_count": 15
        }
      ]
    }
  ]
}